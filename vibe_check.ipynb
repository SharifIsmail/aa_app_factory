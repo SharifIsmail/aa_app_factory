{
 "cells": [
  {
   "cell_type": "code",
   "execution_count": null,
   "id": "e4052348",
   "metadata": {},
   "outputs": [],
   "source": [
    "!pip install fastapi uvicorn requests python-dotenv pydantic pydantic-settings loguru"
   ]
  }
 ],
 "metadata": {
  "language_info": {
   "name": "python"
  }
 },
 "nbformat": 4,
 "nbformat_minor": 5
}
